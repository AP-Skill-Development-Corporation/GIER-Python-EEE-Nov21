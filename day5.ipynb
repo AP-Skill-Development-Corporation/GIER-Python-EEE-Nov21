{
 "cells": [
  {
   "cell_type": "code",
   "execution_count": 1,
   "metadata": {},
   "outputs": [
    {
     "data": {
      "text/plain": [
       "['__and__',\n",
       " '__class__',\n",
       " '__contains__',\n",
       " '__delattr__',\n",
       " '__dir__',\n",
       " '__doc__',\n",
       " '__eq__',\n",
       " '__format__',\n",
       " '__ge__',\n",
       " '__getattribute__',\n",
       " '__gt__',\n",
       " '__hash__',\n",
       " '__iand__',\n",
       " '__init__',\n",
       " '__init_subclass__',\n",
       " '__ior__',\n",
       " '__isub__',\n",
       " '__iter__',\n",
       " '__ixor__',\n",
       " '__le__',\n",
       " '__len__',\n",
       " '__lt__',\n",
       " '__ne__',\n",
       " '__new__',\n",
       " '__or__',\n",
       " '__rand__',\n",
       " '__reduce__',\n",
       " '__reduce_ex__',\n",
       " '__repr__',\n",
       " '__ror__',\n",
       " '__rsub__',\n",
       " '__rxor__',\n",
       " '__setattr__',\n",
       " '__sizeof__',\n",
       " '__str__',\n",
       " '__sub__',\n",
       " '__subclasshook__',\n",
       " '__xor__',\n",
       " 'add',\n",
       " 'clear',\n",
       " 'copy',\n",
       " 'difference',\n",
       " 'difference_update',\n",
       " 'discard',\n",
       " 'intersection',\n",
       " 'intersection_update',\n",
       " 'isdisjoint',\n",
       " 'issubset',\n",
       " 'issuperset',\n",
       " 'pop',\n",
       " 'remove',\n",
       " 'symmetric_difference',\n",
       " 'symmetric_difference_update',\n",
       " 'union',\n",
       " 'update']"
      ]
     },
     "execution_count": 1,
     "metadata": {},
     "output_type": "execute_result"
    }
   ],
   "source": [
    "dir(set)"
   ]
  },
  {
   "cell_type": "markdown",
   "metadata": {},
   "source": [
    "# mathemetical set methods"
   ]
  },
  {
   "cell_type": "code",
   "execution_count": 2,
   "metadata": {},
   "outputs": [
    {
     "name": "stdout",
     "output_type": "stream",
     "text": [
      "{1, 2, 3, 4, 5, 34, 7, 56, 89, 88}\n"
     ]
    }
   ],
   "source": [
    "# union\n",
    "a={1,2,3,4,5,56}\n",
    "b={34,56,7,88,89}\n",
    "print(a.union(b))"
   ]
  },
  {
   "cell_type": "code",
   "execution_count": 4,
   "metadata": {},
   "outputs": [
    {
     "name": "stdout",
     "output_type": "stream",
     "text": [
      "{56, 78, 23}\n"
     ]
    }
   ],
   "source": [
    "# intersection\n",
    "a={23,44,56,78,90}\n",
    "b={12,34,56,23,45,78}\n",
    "print(a.intersection(b))"
   ]
  },
  {
   "cell_type": "code",
   "execution_count": 8,
   "metadata": {},
   "outputs": [
    {
     "name": "stdout",
     "output_type": "stream",
     "text": [
      "set()\n"
     ]
    }
   ],
   "source": [
    "# difference\n",
    "a={1,2,3,4,5,6}\n",
    "b={6,2}\n",
    "print(b.difference(a))"
   ]
  },
  {
   "cell_type": "code",
   "execution_count": 6,
   "metadata": {},
   "outputs": [
    {
     "name": "stdout",
     "output_type": "stream",
     "text": [
      "False\n"
     ]
    }
   ],
   "source": [
    "#issubset\n",
    "a={12,34,56,78,90,34}\n",
    "b={11,34,56,78}\n",
    "print(a.issubset(b))"
   ]
  },
  {
   "cell_type": "code",
   "execution_count": 9,
   "metadata": {},
   "outputs": [
    {
     "name": "stdout",
     "output_type": "stream",
     "text": [
      "False\n"
     ]
    }
   ],
   "source": [
    "# issuperset\n",
    "a={123,45,33,67,45,89}\n",
    "b={11,34,56,78}\n",
    "print(a.issuperset(b))"
   ]
  },
  {
   "cell_type": "code",
   "execution_count": 10,
   "metadata": {},
   "outputs": [
    {
     "name": "stdout",
     "output_type": "stream",
     "text": [
      "{3, 4, 5}\n"
     ]
    }
   ],
   "source": [
    "#symmetric_difference\n",
    "a={1,2,3,4,5}\n",
    "b={1,2}\n",
    "print(a.symmetric_difference(b))"
   ]
  },
  {
   "cell_type": "markdown",
   "metadata": {},
   "source": [
    "# functions\n",
    "- function is a group of statements and to perform a \n",
    "  particular task\n",
    "- block of statements and code\n",
    "- essay debugging\n",
    "- code reusabulity\n",
    "- function syntax:\n",
    "  - def functionname(arguments):\n",
    "  -  statements\n",
    "  -functionname(parameters)\n",
    "- we have two types of functions:\n",
    "  - builtin functions\n",
    "    - len(),print(),range(),max(),min()....etc\n",
    "  - user defined functions\n",
    "   - 4 types of user defined functions:\n",
    "    - with arguments with return value\n",
    "    - with arguments without return value\n",
    "    - without arguments with return value\n",
    "    - without arguments without return value"
   ]
  },
  {
   "cell_type": "code",
   "execution_count": 11,
   "metadata": {},
   "outputs": [
    {
     "data": {
      "text/plain": [
       "60"
      ]
     },
     "execution_count": 11,
     "metadata": {},
     "output_type": "execute_result"
    }
   ],
   "source": [
    "# with arguments with return value\n",
    "a=20\n",
    "b=40\n",
    "def add(a,b):\n",
    "    return a+b\n",
    "add(a,b)"
   ]
  },
  {
   "cell_type": "code",
   "execution_count": 12,
   "metadata": {},
   "outputs": [
    {
     "name": "stdout",
     "output_type": "stream",
     "text": [
      "-56\n"
     ]
    }
   ],
   "source": [
    "# with arguments without return value\n",
    "a=34\n",
    "b=90\n",
    "def subtraction(a,b):\n",
    "    print(a-b)\n",
    "subtraction(a,b)"
   ]
  },
  {
   "cell_type": "code",
   "execution_count": 13,
   "metadata": {},
   "outputs": [
    {
     "data": {
      "text/plain": [
       "200"
      ]
     },
     "execution_count": 13,
     "metadata": {},
     "output_type": "execute_result"
    }
   ],
   "source": [
    "# without arguments with return value\n",
    "def multiple():\n",
    "    a=10\n",
    "    b=20\n",
    "    return a*b\n",
    "multiple()"
   ]
  },
  {
   "cell_type": "code",
   "execution_count": 14,
   "metadata": {},
   "outputs": [
    {
     "name": "stdout",
     "output_type": "stream",
     "text": [
      "110\n"
     ]
    }
   ],
   "source": [
    "#without arguments without return value\n",
    "def addition():# function definition\n",
    "    a=20\n",
    "    b=90\n",
    "    print(a+b)\n",
    "addition()# function calling"
   ]
  },
  {
   "cell_type": "code",
   "execution_count": 16,
   "metadata": {},
   "outputs": [
    {
     "name": "stdout",
     "output_type": "stream",
     "text": [
      "enter a number10\n"
     ]
    },
    {
     "data": {
      "text/plain": [
       "'even'"
      ]
     },
     "execution_count": 16,
     "metadata": {},
     "output_type": "execute_result"
    }
   ],
   "source": [
    "# task:\n",
    "#using function to print given number is even or odd\n",
    "def evenodd(n):\n",
    "    if n%2==0:\n",
    "        return \"even\"\n",
    "    else:\n",
    "        return \"odd\"\n",
    "n=int(input(\"enter a number\"))\n",
    "evenodd(n)"
   ]
  },
  {
   "cell_type": "code",
   "execution_count": 18,
   "metadata": {},
   "outputs": [
    {
     "name": "stdout",
     "output_type": "stream",
     "text": [
      "enter string: giet\n"
     ]
    },
    {
     "data": {
      "text/plain": [
       "'notpalindrome'"
      ]
     },
     "execution_count": 18,
     "metadata": {},
     "output_type": "execute_result"
    }
   ],
   "source": [
    "# using functions to print given string is palindrome \n",
    "# or not\n",
    "def palindrome(s):\n",
    "    if s==s[::-1]:\n",
    "        return \"palindrome\"\n",
    "    else:\n",
    "        return \"notpalindrome\"\n",
    "s=input(\"enter string: \")\n",
    "palindrome(s)"
   ]
  },
  {
   "cell_type": "code",
   "execution_count": 26,
   "metadata": {},
   "outputs": [
    {
     "name": "stdout",
     "output_type": "stream",
     "text": [
      "avarage: 10.5\n"
     ]
    }
   ],
   "source": [
    "# using functions to print avarage of 10\n",
    "\n",
    "def avarage():\n",
    "    s=0\n",
    "    c=0\n",
    "    for i in range(1,21):\n",
    "        s=s+i\n",
    "        c=c+1\n",
    "    print(\"avarage:\",s/c)\n",
    "avarage()"
   ]
  },
  {
   "cell_type": "code",
   "execution_count": null,
   "metadata": {},
   "outputs": [],
   "source": [
    "# 1 2 3 4 5"
   ]
  },
  {
   "cell_type": "code",
   "execution_count": 30,
   "metadata": {},
   "outputs": [
    {
     "name": "stdout",
     "output_type": "stream",
     "text": [
      "1 2 3 4\n",
      "['1', '2', '3', '4']\n",
      "[1, 2, 3, 4]\n"
     ]
    }
   ],
   "source": [
    "inp = input().split() \n",
    "print(inp) # 1 2 3 4\n",
    "a = []\n",
    "for i in inp:\n",
    "    a.append(int(i))\n",
    "print(a)"
   ]
  },
  {
   "cell_type": "markdown",
   "metadata": {},
   "source": [
    "You are provided an array  of size  that contains non-negative integers. Your task is to determine whether the number that is formed by selecting the last digit of all the N numbers is divisible by 10"
   ]
  },
  {
   "cell_type": "code",
   "execution_count": 37,
   "metadata": {},
   "outputs": [
    {
     "name": "stdout",
     "output_type": "stream",
     "text": [
      "6\n",
      "12 2 45 6 34 9\n",
      "False\n"
     ]
    }
   ],
   "source": [
    " n = int(input())\n",
    "inp = input().split()\n",
    "a = []\n",
    "for i in inp:\n",
    "    a.append(int(i))\n",
    "num = \"\"\n",
    "for i in a:\n",
    "    num += str(i%10)\n",
    "if int(num)%10==0:\n",
    "    print(True)\n",
    "else:\n",
    "    print(False)"
   ]
  },
  {
   "cell_type": "code",
   "execution_count": 35,
   "metadata": {},
   "outputs": [
    {
     "data": {
      "text/plain": [
       "4"
      ]
     },
     "execution_count": 35,
     "metadata": {},
     "output_type": "execute_result"
    }
   ],
   "source": [
    "1234"
   ]
  },
  {
   "cell_type": "code",
   "execution_count": null,
   "metadata": {},
   "outputs": [],
   "source": [
    " n = int(input())\n",
    "inp = input().split()\n",
    "a = []\n",
    "for i in inp:\n",
    "    a.append(int(i))\n",
    "num = a[-1]\n",
    "if num%10==0:\n",
    "    print(True)\n",
    "else:\n",
    "    print(False)"
   ]
  },
  {
   "cell_type": "markdown",
   "metadata": {},
   "source": [
    "## File Handling\n",
    "- methods:\n",
    "    - open(filename, mode) : open the file\n",
    "    - read()  : read the file\n",
    "    - write() : write data into file\n",
    "    - close() : to close the file\n",
    "- modes:\n",
    "    - create(x)\n",
    "    - read (r)\n",
    "    - write (w)\n",
    "    - append (a) "
   ]
  },
  {
   "cell_type": "code",
   "execution_count": 5,
   "metadata": {},
   "outputs": [
    {
     "name": "stdout",
     "output_type": "stream",
     "text": [
      "Python Programming\n",
      "GIER\n",
      "EEE 3RD YEAR\n",
      "asdfasdf\n",
      "asdfasdfasdf\n",
      "asdfasdfsdf\n"
     ]
    }
   ],
   "source": [
    "f = open(\"data.txt\",'r')\n",
    "print(f.read())\n",
    "f.close()"
   ]
  },
  {
   "cell_type": "code",
   "execution_count": 7,
   "metadata": {},
   "outputs": [],
   "source": [
    "f = open(\"data.txt\",\"w\")\n",
    "f.write(\"new data\") # will erase previous data\n",
    "f.close()"
   ]
  },
  {
   "cell_type": "code",
   "execution_count": 8,
   "metadata": {},
   "outputs": [],
   "source": [
    "f = open(\"file.txt\",\"w\")\n",
    "f.write(\"new data\") # will erase previous data\n",
    "f.close()"
   ]
  },
  {
   "cell_type": "code",
   "execution_count": 11,
   "metadata": {},
   "outputs": [],
   "source": [
    "f = open(\"file.txt\",'a')\n",
    "f.write(\"\\nthis is the new text\")\n",
    "f.close()"
   ]
  },
  {
   "cell_type": "code",
   "execution_count": 14,
   "metadata": {},
   "outputs": [
    {
     "name": "stdout",
     "output_type": "stream",
     "text": [
      "new datathis is the new text\n",
      "this is the new text\n",
      "this is the new text\n",
      "123 2134 41234\n",
      "<class 'str'>\n"
     ]
    }
   ],
   "source": [
    "f = open(\"file.txt\",\"r\")\n",
    "d = f.read()\n",
    "print(d)\n",
    "print(type(d))"
   ]
  },
  {
   "cell_type": "code",
   "execution_count": 17,
   "metadata": {},
   "outputs": [
    {
     "name": "stdout",
     "output_type": "stream",
     "text": [
      "['new datathis is the new text\\n', 'this is the new text\\n', 'this is the new text\\n', '123 2134 41234\\n', 'sfasf']\n",
      "<class 'list'>\n"
     ]
    }
   ],
   "source": [
    "f = open(\"file.txt\",\"r\")\n",
    "d = f.readlines()\n",
    "print(d)\n",
    "print(type(d))"
   ]
  },
  {
   "cell_type": "code",
   "execution_count": 20,
   "metadata": {},
   "outputs": [
    {
     "name": "stdout",
     "output_type": "stream",
     "text": [
      "8\n"
     ]
    }
   ],
   "source": [
    "# write a program to count the number of lines\n",
    "# in a file\n",
    "f = open(\"file.txt\",'r')\n",
    "d = f.readlines()\n",
    "print(len(d))"
   ]
  },
  {
   "cell_type": "code",
   "execution_count": null,
   "metadata": {},
   "outputs": [],
   "source": [
    "# write a program to count the number of characters\n",
    "# in a file\n",
    "f = open(\"file.txt\",'r')\n"
   ]
  },
  {
   "cell_type": "code",
   "execution_count": null,
   "metadata": {},
   "outputs": [],
   "source": []
  }
 ],
 "metadata": {
  "kernelspec": {
   "display_name": "Python 3",
   "language": "python",
   "name": "python3"
  },
  "language_info": {
   "codemirror_mode": {
    "name": "ipython",
    "version": 3
   },
   "file_extension": ".py",
   "mimetype": "text/x-python",
   "name": "python",
   "nbconvert_exporter": "python",
   "pygments_lexer": "ipython3",
   "version": "3.8.5"
  }
 },
 "nbformat": 4,
 "nbformat_minor": 4
}
